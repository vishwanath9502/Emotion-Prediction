{
 "cells": [
  {
   "cell_type": "code",
   "execution_count": 51,
   "id": "fe2f63b2",
   "metadata": {},
   "outputs": [
    {
     "name": "stdout",
     "output_type": "stream",
     "text": [
      "Requirement already satisfied: scikit-learn in c:\\users\\gorla\\anaconda3\\desktop\\lib\\site-packages (1.5.1)Note: you may need to restart the kernel to use updated packages.\n",
      "\n",
      "Requirement already satisfied: joblib>=1.2.0 in c:\\users\\gorla\\anaconda3\\desktop\\lib\\site-packages (from scikit-learn) (1.4.2)\n",
      "Requirement already satisfied: threadpoolctl>=3.1.0 in c:\\users\\gorla\\anaconda3\\desktop\\lib\\site-packages (from scikit-learn) (3.5.0)\n",
      "Requirement already satisfied: scipy>=1.6.0 in c:\\users\\gorla\\anaconda3\\desktop\\lib\\site-packages (from scikit-learn) (1.10.0)\n",
      "Requirement already satisfied: numpy>=1.19.5 in c:\\users\\gorla\\anaconda3\\desktop\\lib\\site-packages (from scikit-learn) (1.23.5)\n"
     ]
    }
   ],
   "source": [
    "pip install --upgrade scikit-learn"
   ]
  },
  {
   "cell_type": "code",
   "execution_count": 65,
   "id": "56a8abda",
   "metadata": {},
   "outputs": [],
   "source": [
    "import pandas as pd\n",
    "import nltk\n",
    "from sklearn.model_selection import train_test_split\n",
    "from sklearn.feature_extraction.text import TfidfVectorizer\n",
    "from sklearn.naive_bayes import MultinomialNB\n",
    "from sklearn.neighbors import KNeighborsClassifier\n",
    "from sklearn.tree import DecisionTreeClassifier\n",
    "from sklearn.svm import SVC\n",
    "from sklearn.pipeline import Pipeline\n",
    "from sklearn.metrics import accuracy_score\n",
    "from nltk.corpus import stopwords\n",
    "import pickle\n",
    "from joblib import dump, load"
   ]
  },
  {
   "cell_type": "code",
   "execution_count": 66,
   "id": "feea11bd",
   "metadata": {},
   "outputs": [],
   "source": [
    "# Load the dataset\n",
    "df = pd.read_csv(r\"D:\\Vishu\\My\\Innomatics\\286\\Data_Sets\\emotions.csv\")\n"
   ]
  },
  {
   "cell_type": "code",
   "execution_count": 67,
   "id": "e1249506",
   "metadata": {},
   "outputs": [
    {
     "name": "stdout",
     "output_type": "stream",
     "text": [
      "Dataset Overview:\n",
      "                                                text  label\n",
      "0  ive enjoyed being able to slouch about relax a...      0\n",
      "1                         i dont know i feel so lost      0\n",
      "2         i was beginning to feel quite disheartened      0\n",
      "3  i can still lose the weight without feeling de...      0\n",
      "4  im feeling a little like a damaged tree and th...      0\n",
      "\n",
      "Sample Texts:\n",
      "970      i have been the person that has needed encoura...\n",
      "8647     i checked on her feelings and the status of yo...\n",
      "1948     i feel like it looks a bit messy but i m sure ...\n",
      "10012    i drove into the premises of the school the fe...\n",
      "11220    i do not think this is true love with steve bu...\n",
      "Name: text, dtype: object\n",
      "\n",
      "Label Distribution:\n",
      "label\n",
      "0    2000\n",
      "1    2000\n",
      "2    2000\n",
      "3    2000\n",
      "4    2000\n",
      "5    2000\n",
      "Name: count, dtype: int64\n"
     ]
    }
   ],
   "source": [
    "# Check the dataset content\n",
    "print(\"Dataset Overview:\")\n",
    "print(df.head())\n",
    "print(\"\\nSample Texts:\")\n",
    "print(df['text'].sample(5))\n",
    "print(\"\\nLabel Distribution:\")\n",
    "print(df['label'].value_counts())"
   ]
  },
  {
   "cell_type": "code",
   "execution_count": 68,
   "id": "6a3f4843",
   "metadata": {},
   "outputs": [],
   "source": [
    "# Preprocess text: lowercasing and basic cleanup\n",
    "df['text'] = df['text'].str.lower()\n"
   ]
  },
  {
   "cell_type": "code",
   "execution_count": 69,
   "id": "e3586680",
   "metadata": {},
   "outputs": [],
   "source": [
    "# Split the dataset into training and testing sets\n",
    "X = df['text']\n",
    "y = df['label']\n",
    "X_train, X_test, y_train, y_test = train_test_split(X, y, test_size=0.2, random_state=42)\n"
   ]
  },
  {
   "cell_type": "code",
   "execution_count": 70,
   "id": "b9c7ce29",
   "metadata": {},
   "outputs": [],
   "source": [
    "# Define a text processing and machine learning pipeline\n",
    "pipelines = {\n",
    "    \"MultinomialNB\": Pipeline([\n",
    "        ('tfidf', TfidfVectorizer(stop_words=stopwords.words('english'))),\n",
    "        ('clf', MultinomialNB())\n",
    "    ]),\n",
    "    \"KNeighborsClassifier\": Pipeline([\n",
    "        ('tfidf', TfidfVectorizer(stop_words=stopwords.words('english'))),\n",
    "        ('clf', KNeighborsClassifier())\n",
    "    ]),\n",
    "    \"DecisionTreeClassifier\": Pipeline([\n",
    "        ('tfidf', TfidfVectorizer(stop_words=stopwords.words('english'))),\n",
    "        ('clf', DecisionTreeClassifier())\n",
    "    ]),\n",
    "    \"SVC\": Pipeline([\n",
    "        ('tfidf', TfidfVectorizer(stop_words=stopwords.words('english'))),\n",
    "        ('clf', SVC())\n",
    "    ])\n",
    "}"
   ]
  },
  {
   "cell_type": "code",
   "execution_count": 71,
   "id": "cfa8ad4e",
   "metadata": {},
   "outputs": [
    {
     "name": "stdout",
     "output_type": "stream",
     "text": [
      "\n",
      "MultinomialNB Train Accuracy: 0.9596875\n",
      "MultinomialNB Test Accuracy: 0.8404166666666667\n",
      "\n",
      "KNeighborsClassifier Train Accuracy: 0.7875\n",
      "KNeighborsClassifier Test Accuracy: 0.6433333333333333\n",
      "\n",
      "DecisionTreeClassifier Train Accuracy: 0.9977083333333333\n",
      "DecisionTreeClassifier Test Accuracy: 0.8795833333333334\n",
      "\n",
      "SVC Train Accuracy: 0.9898958333333333\n",
      "SVC Test Accuracy: 0.8841666666666667\n",
      "\n",
      "Best Model: SVC with Accuracy: 0.8841666666666667\n"
     ]
    }
   ],
   "source": [
    "best_accuracy = 0\n",
    "best_model_name = \"\"\n",
    "best_model = None\n",
    "\n",
    "## Train and evaluate each model\n",
    "for name, pipeline in pipelines.items():\n",
    "    pipeline.fit(X_train, y_train)\n",
    "    y_train_pred = pipeline.predict(X_train)\n",
    "    train_accuracy = accuracy_score(y_train, y_train_pred)\n",
    "    y_test_pred = pipeline.predict(X_test)\n",
    "    test_accuracy = accuracy_score(y_test, y_test_pred)\n",
    "    \n",
    "    print(f\"\\n{name} Train Accuracy: {train_accuracy}\")\n",
    "    print(f\"{name} Test Accuracy: {test_accuracy}\")\n",
    "    \n",
    "    if test_accuracy > best_accuracy:\n",
    "        best_accuracy = test_accuracy\n",
    "        best_model_name = name\n",
    "        best_model = pipeline\n",
    "\n",
    "print(f\"\\nBest Model: {best_model_name} with Accuracy: {best_accuracy}\")\n"
   ]
  },
  {
   "cell_type": "code",
   "execution_count": 78,
   "id": "dde4399b",
   "metadata": {},
   "outputs": [],
   "source": [
    "# Save the best model using joblib\n",
    "dump(best_model, 'best_model.joblib')\n",
    " # Load the pickled model for later use\n",
    "loaded_model = load('best_model.joblib')\n"
   ]
  },
  {
   "cell_type": "code",
   "execution_count": 77,
   "id": "0df7a948",
   "metadata": {},
   "outputs": [
    {
     "name": "stdout",
     "output_type": "stream",
     "text": [
      "Text: 'i was beginning to feel quite disheartened'\n",
      "Predicted Emotion: [0]\n",
      "\n",
      "Text: 'i genuinely feel happy when i can be with you lord'\n",
      "Predicted Emotion: [1]\n",
      "\n",
      "Text: 'i actually feel more compassionate with the world'\n",
      "Predicted Emotion: [2]\n",
      "\n",
      "Text: 'i see how she feels wronged'\n",
      "Predicted Emotion: [3]\n",
      "\n",
      "Text: 'im feeling scared or stressed or anxious theres not always a lot i can do to snap myself out of it'\n",
      "Predicted Emotion: [4]\n",
      "\n",
      "Text: 'i am writing today feeling enthralled after another busy afternoon at the visitor centre yesterday'\n",
      "Predicted Emotion: [5]\n",
      "\n"
     ]
    }
   ],
   "source": [
    "## Function to predict emotion from text\n",
    "def predict_emotion(text):\n",
    "    prediction = loaded_model.predict([text])\n",
    "    return prediction\n",
    "\n",
    "# Example usage\n",
    "example_texts = [\n",
    "    \"i was beginning to feel quite disheartened\",\n",
    "    \"i genuinely feel happy when i can be with you lord\",\n",
    "    \"i actually feel more compassionate with the world\",\n",
    "    \"i see how she feels wronged\",\n",
    "    \"im feeling scared or stressed or anxious theres not always a lot i can do to snap myself out of it\",\n",
    "    \"i am writing today feeling enthralled after another busy afternoon at the visitor centre yesterday\"\n",
    "]\n",
    "\n",
    "for example_text in example_texts:\n",
    "    emotion = predict_emotion(example_text)\n",
    "    print(f\"Text: '{example_text}'\")\n",
    "    print(f\"Predicted Emotion: {emotion}\")\n",
    "    print()"
   ]
  },
  {
   "cell_type": "code",
   "execution_count": 79,
   "id": "6502d1bb",
   "metadata": {},
   "outputs": [
    {
     "name": "stdout",
     "output_type": "stream",
     "text": [
      "Predicted Emotion: [0]\n"
     ]
    }
   ],
   "source": [
    " # Example usage\n",
    "example_text = \"i was beginning to feel quite disheartened\"\n",
    "emotion = predict_emotion(example_text)\n",
    "print(f\"Predicted Emotion: {emotion}\")"
   ]
  },
  {
   "cell_type": "code",
   "execution_count": 80,
   "id": "0ddd2e64",
   "metadata": {},
   "outputs": [
    {
     "name": "stdout",
     "output_type": "stream",
     "text": [
      "Predicted Emotion: [1]\n"
     ]
    }
   ],
   "source": [
    "# Example usage\n",
    "example_text = \"i genuinely feel happy when i can be with you lord\"\n",
    "emotion = predict_emotion(example_text)\n",
    "print(f\"Predicted Emotion: {emotion}\")"
   ]
  },
  {
   "cell_type": "code",
   "execution_count": 81,
   "id": "0b9fc983",
   "metadata": {},
   "outputs": [
    {
     "name": "stdout",
     "output_type": "stream",
     "text": [
      "Predicted Emotion: [2]\n"
     ]
    }
   ],
   "source": [
    "# Example usage\n",
    "example_text = \"i actually feel more compassionate with the world\"\n",
    "emotion = predict_emotion(example_text)\n",
    "print(f\"Predicted Emotion: {emotion}\")"
   ]
  },
  {
   "cell_type": "code",
   "execution_count": 82,
   "id": "5b3facb9",
   "metadata": {},
   "outputs": [
    {
     "name": "stdout",
     "output_type": "stream",
     "text": [
      "Predicted Emotion: [3]\n"
     ]
    }
   ],
   "source": [
    "# Example usage\n",
    "example_text = \"i see how she feels wronged\"\n",
    "emotion = predict_emotion(example_text)\n",
    "print(f\"Predicted Emotion: {emotion}\")"
   ]
  },
  {
   "cell_type": "code",
   "execution_count": 83,
   "id": "7fd5768e",
   "metadata": {},
   "outputs": [
    {
     "name": "stdout",
     "output_type": "stream",
     "text": [
      "Predicted Emotion: [4]\n"
     ]
    }
   ],
   "source": [
    "# Example usage\n",
    "example_text = \"im feeling scared or stressed or anxious theres not always a lot i can do to snap myself out of it\"\n",
    "emotion = predict_emotion(example_text)\n",
    "print(f\"Predicted Emotion: {emotion}\")"
   ]
  },
  {
   "cell_type": "code",
   "execution_count": 84,
   "id": "5b763e25",
   "metadata": {},
   "outputs": [
    {
     "name": "stdout",
     "output_type": "stream",
     "text": [
      "Predicted Emotion: [5]\n"
     ]
    }
   ],
   "source": [
    "# Example usage\n",
    "example_text = \"i am writing today feeling enthralled after another busy afternoon at the visitor centre yesterday\"\n",
    "emotion = predict_emotion(example_text)\n",
    "print(f\"Predicted Emotion: {emotion}\")"
   ]
  },
  {
   "cell_type": "code",
   "execution_count": null,
   "id": "a67167b2",
   "metadata": {},
   "outputs": [],
   "source": []
  }
 ],
 "metadata": {
  "kernelspec": {
   "display_name": "Python 3 (ipykernel)",
   "language": "python",
   "name": "python3"
  },
  "language_info": {
   "codemirror_mode": {
    "name": "ipython",
    "version": 3
   },
   "file_extension": ".py",
   "mimetype": "text/x-python",
   "name": "python",
   "nbconvert_exporter": "python",
   "pygments_lexer": "ipython3",
   "version": "3.10.9"
  }
 },
 "nbformat": 4,
 "nbformat_minor": 5
}
